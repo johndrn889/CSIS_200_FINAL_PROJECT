{
 "cells": [
  {
   "cell_type": "markdown",
   "metadata": {},
   "source": [
    "# Final project\n",
    "\n",
    "**Can you escape a velociraptor?**\n",
    "\n",
    "Your goal is to figure out whether or not a velociraptor will catch you or if you can outrun it!\n",
    "\n",
    "## Problem 1. Position vs. time\n",
    "\n",
    "Suppose a velociraptor can run 18 m/s. And suppose you can run at 3 m/s, but you have a 30 meter head start. Assume that you and the 'raptor accelerate so quickly that you can ignore acceleration. \n",
    "\n",
    "Make a plot of the position vs. time for both you and the 'raptor (plot both on the same figure). Clearly label all axes and give the plot a legend. Plot over a suitable time frame. Save the figure as a .png file. \n",
    "\n",
    "*This plot will be included in your write-up*."
   ]
  },
  {
   "cell_type": "code",
   "execution_count": 6,
   "metadata": {
    "collapsed": false
   },
   "outputs": [
    {
     "data": {
      "text/plain": [
       "(0, 75)"
      ]
     },
     "execution_count": 6,
     "metadata": {},
     "output_type": "execute_result"
    },
    {
     "data": {
      "image/png": "[encoded data removed]",
      "text/plain": [
       "<matplotlib.figure.Figure at 0x10645df10>"
      ]
     },
     "metadata": {},
     "output_type": "display_data"
    }
   ],
   "source": [
    "### I worked with Sachin and Tyler\n",
    "\n",
    "import matplotlib.pylab as plt\n",
    "%matplotlib inline\n",
    "import numpy as np\n",
    "\n",
    "vr = 18 #raptor speed in m/s\n",
    "vh = 3 # human speed in m/s\n",
    "\n",
    "time = []\n",
    "for i in range(0,250):\n",
    "    c = i/10.0\n",
    "    time.append(c)\n",
    "    \n",
    "#Raptor\n",
    "x1 = []\n",
    "for i in time:\n",
    "    d = 18*i\n",
    "    x1.append(d)\n",
    "    \n",
    "#Person\n",
    "x2 = []\n",
    "for i in time:\n",
    "    e = 3*i+30 # 30m head start\n",
    "    x2.append(e)\n",
    "    \n",
    "plt.plot(time,x1,label=\"Raptor\")\n",
    "plt.plot(time,x2,label=\"Human\")\n",
    "plt.xlabel('Time(s)',fontsize=14)\n",
    "plt.ylabel('Position(m)',fontsize=14)\n",
    "plt.title('Position vs. Time',fontsize=14)\n",
    "plt.legend(loc='lower right')\n",
    "plt.xlim(0,5)\n",
    "plt.ylim(0,75)"
   ]
  },
  {
   "cell_type": "markdown",
   "metadata": {},
   "source": [
    "## Problem 2. When does the 'raptor catch up to you?\n",
    "\n",
    "Use your code to figure out when the raptor catches up to you. Both how much time has passed and how far *you* have run.  \n",
    "\n",
    "Do not just get this information off the graph. Use your Python code to figure this out! Getting the information just by looking at the plot will result in a 0 for this question. You can use an analytic approach (algebra) to check your answer, but that is not the approach I want you to use. Depending on how you write your code, you might not get an *exact* answer, but you should find a way to get pretty close to the algebraic solution. "
   ]
  },
  {
   "cell_type": "code",
   "execution_count": 7,
   "metadata": {
    "collapsed": false
   },
   "outputs": [
    {
     "name": "stdout",
     "output_type": "stream",
     "text": [
      "The raptor catches up to you at 2.000000 seconds\n"
     ]
    }
   ],
   "source": [
    "#xid = 0\n",
    "#xip = 30\n",
    "#vid = 18\n",
    "#vip = 3\n",
    "#a = 0\n",
    "\n",
    "#t = xip/(vid-vip)\n",
    "\n",
    "\n",
    "#print \"The raptor will catch up to you in %f seconds\" % (t)\n",
    "\n",
    "for x in time:\n",
    "    p = int(3*x +30)\n",
    "    r = int(18*x)\n",
    "    if p == r:\n",
    "        print \"The raptor catches up to you at %f seconds\" % (x)"
   ]
  },
  {
   "cell_type": "markdown",
   "metadata": {},
   "source": [
    "## Problem 3. When is it close enough to strike?\n",
    "\n",
    "It turns out the 'raptor will start trying to attack when it is 1 meter away. How much time has passed and how far have you run when it is 1 meter behind you? Use a similar approach as the last problem. \n",
    "\n",
    "***Also make a new copy of the above plot, but label (with a line or arrow or whatever you want) the point at which the raptor is 1 meter behind you.***"
   ]
  },
  {
   "cell_type": "code",
   "execution_count": 8,
   "metadata": {
    "collapsed": false
   },
   "outputs": [
    {
     "name": "stdout",
     "output_type": "stream",
     "text": [
      "The raptor catches up to you at 1.900000 seconds\n"
     ]
    },
    {
     "data": {
      "text/plain": [
       "<matplotlib.patches.FancyArrow at 0x106716d50>"
      ]
     },
     "execution_count": 8,
     "metadata": {},
     "output_type": "execute_result"
    },
    {
     "data": {
      "image/png": "[encoded data removed]",
      "text/plain": [
       "<matplotlib.figure.Figure at 0x106531d90>"
      ]
     },
     "metadata": {},
     "output_type": "display_data"
    }
   ],
   "source": [
    "for x in time:\n",
    "    p = int(3*x +30)\n",
    "    r = int(18*x+1)\n",
    "    if p == r:\n",
    "        print \"The raptor catches up to you at %f seconds\" % (x)\n",
    "        \n",
    "import matplotlib.pylab as plt\n",
    "%matplotlib inline\n",
    "import numpy as np\n",
    "\n",
    "vr = 18 #raptor speed in m/s\n",
    "vh = 3 # human speed in m/s\n",
    "\n",
    "time = []\n",
    "for i in range(0,250):\n",
    "    c = i/10.0\n",
    "    time.append(c)\n",
    "    \n",
    "#Raptor\n",
    "x1 = []\n",
    "for i in time:\n",
    "    d = 18*i\n",
    "    x1.append(d)\n",
    "    \n",
    "#Person\n",
    "x2 = []\n",
    "for i in time:\n",
    "    e = 3*i+30 # 30m head start\n",
    "    x2.append(e)\n",
    "\n",
    "    \n",
    "plt.plot(time,x1,label=\"Raptor\")\n",
    "plt.plot(time,x2,label=\"Human\")\n",
    "plt.xlabel('Time(s)',fontsize=14)\n",
    "plt.ylabel('Position(m)',fontsize=14)\n",
    "plt.title('Position vs. Time',fontsize=14)\n",
    "plt.legend(loc='lower right')\n",
    "plt.xlim(0,5)\n",
    "plt.ylim(0,75)\n",
    "plt.arrow(1.9,21,0.0,10,head_width=.1,head_length=3) "
   ]
  },
  {
   "cell_type": "markdown",
   "metadata": {},
   "source": [
    "## Problem 4. Will it bite you?\n",
    "\n",
    "When the 'raptor is 1 meter away, it will try to bite you. If it doesn't bite you, it will try a second and (if necessary) a third time. If it doesn't get you on the third try, it will grow frustrated and stop chasing you. Hurray!\n",
    "\n",
    "Suppose the first time it tries, there is a 20% chance it will bite you. If it misses and it needs to try a second time, there is only a 15% chance, and if it misses *that* time, there is only a 7% chance on the third try. \n",
    "\n",
    "If it bites you once, you're 'raptor food. If it misses all three times, you get away!\n",
    "\n",
    "What is the probability that you will get away?\n"
   ]
  },
  {
   "cell_type": "code",
   "execution_count": 21,
   "metadata": {
    "collapsed": false
   },
   "outputs": [
    {
     "name": "stdout",
     "output_type": "stream",
     "text": [
      "You have a 60.800000 percent chance of escaping.\n"
     ]
    }
   ],
   "source": [
    "import numpy as np\n",
    "def chase():\n",
    "    firstbite=np.random.randint(100)\n",
    "    secondbite=np.random.randint(100)\n",
    "    thirdbite=np.random.randint(100)\n",
    "    \n",
    "    if firstbite<=20:\n",
    "        return \"You have been eaten\"\n",
    "    elif secondbite<=15:\n",
    "        return \"You have been eaten\"\n",
    "    elif thirdbite<=7:\n",
    "        return \"You have been eaten\"\n",
    "    else:\n",
    "        return \"You have escaped\"  \n",
    "\n",
    "Deaths=0\n",
    "Escapes=0\n",
    "n = 1000\n",
    "##\n",
    "\n",
    "for i in range(0,n):\n",
    "    i+=1\n",
    "    func=chase()\n",
    "    if func ==\"You have been eaten\":\n",
    "        Deaths +=1\n",
    "    elif func==\"You have escaped\":\n",
    "        Escapes += 1\n",
    "    chase_probability= (Escapes/float(n))*100\n",
    "print \"You have a %f percent chance of escaping.\" %(chase_probability)"
   ]
  },
  {
   "cell_type": "code",
   "execution_count": null,
   "metadata": {
    "collapsed": false
   },
   "outputs": [],
   "source": []
  },
  {
   "cell_type": "code",
   "execution_count": null,
   "metadata": {
    "collapsed": false
   },
   "outputs": [],
   "source": []
  },
  {
   "cell_type": "code",
   "execution_count": null,
   "metadata": {
    "collapsed": true
   },
   "outputs": [],
   "source": []
  },
  {
   "cell_type": "code",
   "execution_count": null,
   "metadata": {
    "collapsed": true
   },
   "outputs": [],
   "source": []
  }
 ],
 "metadata": {
  "kernelspec": {
   "display_name": "Python 2",
   "language": "python",
   "name": "python2"
  },
  "language_info": {
   "codemirror_mode": {
    "name": "ipython",
    "version": 2
   },
   "file_extension": ".py",
   "mimetype": "text/x-python",
   "name": "python",
   "nbconvert_exporter": "python",
   "pygments_lexer": "ipython2",
   "version": "2.7.10"
  }
 },
 "nbformat": 4,
 "nbformat_minor": 0
}
